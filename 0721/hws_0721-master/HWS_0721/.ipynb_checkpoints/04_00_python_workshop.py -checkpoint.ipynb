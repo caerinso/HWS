{
 "cells": [
  {
   "cell_type": "code",
   "execution_count": 31,
   "id": "ddcb68b4",
   "metadata": {},
   "outputs": [
    {
     "name": "stdout",
     "output_type": "stream",
     "text": [
      "10\n",
      "1 2 5 10\n"
     ]
    }
   ],
   "source": [
    "N=int(input())\n",
    "lst=[]\n",
    "for i in range(1,N+1):\n",
    "    \n",
    "    if N%i==0:\n",
    "        lst.append(i)\n",
    "    else :\n",
    "        continue \n",
    "        \n",
    "lst.sort()        \n",
    "result=' '.join(str(s)for s in lst)\n",
    "print(result)\n",
    "\n",
    "#sorted() 와 .sort(리턴 밸류가 없다 !!! 헷갈리지 말자.)는 방식이 다르다. \n"
   ]
  },
  {
   "cell_type": "code",
   "execution_count": 26,
   "id": "2406dac9",
   "metadata": {},
   "outputs": [
    {
     "data": {
      "text/plain": [
       "15"
      ]
     },
     "execution_count": 26,
     "metadata": {},
     "output_type": "execute_result"
    }
   ],
   "source": [
    "def list_sum (a) :\n",
    "    k=len(a)\n",
    "    sum=0\n",
    "    num=0\n",
    "    for i in range(0,k):\n",
    "        num = a[i]\n",
    "        sum=sum+num\n",
    "    \n",
    "    return sum \n",
    "\n",
    "list_sum([1,2,3,4,5])  "
   ]
  },
  {
   "cell_type": "code",
   "execution_count": 29,
   "id": "0d92af1a",
   "metadata": {},
   "outputs": [
    {
     "data": {
      "text/plain": [
       "16"
      ]
     },
     "execution_count": 29,
     "metadata": {},
     "output_type": "execute_result"
    }
   ],
   "source": [
    "def dic_list_sum(a):\n",
    "    \n",
    "    k=len(a)\n",
    "    sum=0\n",
    "    num=0\n",
    "\n",
    "    for i in range(0,k):\n",
    "        A=a[i]\n",
    "        num=A['age']\n",
    "        sum=sum+num\n",
    "        \n",
    "    return sum\n",
    "    \n",
    "\n",
    "dic_list_sum([{'name':'kim','age':12},{'name':'lee','age':4}])"
   ]
  },
  {
   "cell_type": "code",
   "execution_count": 34,
   "id": "7eacc9c7",
   "metadata": {},
   "outputs": [
    {
     "data": {
      "text/plain": [
       "55"
      ]
     },
     "execution_count": 34,
     "metadata": {},
     "output_type": "execute_result"
    }
   ],
   "source": [
    "def list_sum (a) :\n",
    "    k=len(a)\n",
    "    sum=0\n",
    "    num=0\n",
    "    for i in range(0,k):\n",
    "        num = a[i]\n",
    "        sum=sum+num\n",
    "    \n",
    "    return sum \n",
    "\n",
    "\n",
    "def all_list_sum(a):\n",
    "     \n",
    "    k=len(a)\n",
    "    sum=0\n",
    "    num=0\n",
    "    for i in range(0,k):\n",
    "        A=a[i]\n",
    "        \n",
    "        sum_1=list_sum(A)\n",
    "        \n",
    "        num=num+sum_1\n",
    "    return num \n",
    "\n",
    "\n",
    "all_list_sum([[1],[2,3],[4,5,6],[7,8,9,10]])        \n",
    "       "
   ]
  },
  {
   "cell_type": "code",
   "execution_count": 36,
   "id": "675c321b",
   "metadata": {},
   "outputs": [
    {
     "data": {
      "text/plain": [
       "'Ssafy'"
      ]
     },
     "execution_count": 36,
     "metadata": {},
     "output_type": "execute_result"
    }
   ],
   "source": [
    "def get_secret_word(a):\n",
    "    \n",
    "    k=list(map(str,a))\n",
    "    \n",
    "    A={'83':'S','115':'s','65':'a','102':'f','89':'y'}\n",
    "    lst=[]\n",
    "    s=len(k)\n",
    "    for i in range(0,s):\n",
    "        \n",
    "        lst.append(A[k[i]])\n",
    "        \n",
    "    lst_T=''.join(lst)\n",
    "    return lst_T\n",
    "    \n",
    "\n",
    "    \n",
    "get_secret_word([83,115,65,102,89])"
   ]
  },
  {
   "cell_type": "code",
   "execution_count": 43,
   "id": "c98340d7",
   "metadata": {},
   "outputs": [
    {
     "data": {
      "text/plain": [
       "546"
      ]
     },
     "execution_count": 43,
     "metadata": {},
     "output_type": "execute_result"
    }
   ],
   "source": [
    "def list_sum (a) :\n",
    "    k=len(a)\n",
    "    sum=0\n",
    "    num=0\n",
    "    for i in range(0,k):\n",
    "        num = a[i]\n",
    "        sum=sum+num\n",
    "    \n",
    "    return sum \n",
    "    \n",
    "\n",
    "def get_secret_number(a):\n",
    "    \n",
    "    lst= list(a)\n",
    "    \n",
    "    A={'h':'104','a':'97','p':'112','y':'121'}\n",
    "    list_1=[]\n",
    "    s=len(lst)\n",
    "    \n",
    "    for i in range(0,s):\n",
    "        \n",
    "        list_1.append(A[lst[i]])\n",
    "        \n",
    "    \n",
    "    list_2 =list(map(int,list_1))\n",
    "    \n",
    "    return list_sum(list_2)\n",
    "    \n",
    "\n",
    "\n",
    "get_secret_number('happy')"
   ]
  },
  {
   "cell_type": "code",
   "execution_count": 44,
   "id": "187ce6d7",
   "metadata": {},
   "outputs": [
    {
     "data": {
      "text/plain": [
       "'delilah'"
      ]
     },
     "execution_count": 44,
     "metadata": {},
     "output_type": "execute_result"
    }
   ],
   "source": [
    "def list_sum (a) :\n",
    "    k=len(a)\n",
    "    sum=0\n",
    "    num=0\n",
    "    for i in range(0,k):\n",
    "        num = a[i]\n",
    "        sum=sum+num\n",
    "    \n",
    "    return sum \n",
    "    \n",
    "\n",
    "def get_secret_number(a):\n",
    "    \n",
    "    lst= list(a)\n",
    "    \n",
    "    A={'z':'122','a':'97','d':'100','e':'101',\n",
    "   'l':'75','i':'105','a':'97','n':'110','h':'104','x':'120','o':'111','n':'110'}\n",
    "\n",
    "    list_1=[]\n",
    "    s=len(lst)\n",
    "    \n",
    "    for i in range(0,s):\n",
    "        \n",
    "        list_1.append(A[lst[i]])\n",
    "        \n",
    "    \n",
    "    list_2 =list(map(int,list_1))\n",
    "    \n",
    "    return list_sum(list_2)\n",
    "\n",
    "\n",
    "def get_strong_word(a,b):\n",
    "    \n",
    "    A=get_secret_number(a)\n",
    "    \n",
    "    B=get_secret_number(b)\n",
    "    \n",
    "    if A > B:\n",
    "        return a\n",
    "    elif A<B:\n",
    "        return b\n",
    "    else:\n",
    "        return a,b\n",
    "\n",
    "\n",
    "\n",
    "\n",
    "\n",
    "get_strong_word('z','a')\n",
    "\n",
    "get_strong_word('delilah','dixon')"
   ]
  },
  {
   "cell_type": "code",
   "execution_count": null,
   "id": "7aecd0c1",
   "metadata": {},
   "outputs": [],
   "source": []
  },
  {
   "cell_type": "code",
   "execution_count": null,
   "id": "84fa0845",
   "metadata": {},
   "outputs": [],
   "source": []
  }
 ],
 "metadata": {
  "kernelspec": {
   "display_name": "Python 3 (ipykernel)",
   "language": "python",
   "name": "python3"
  },
  "language_info": {
   "codemirror_mode": {
    "name": "ipython",
    "version": 3
   },
   "file_extension": ".py",
   "mimetype": "text/x-python",
   "name": "python",
   "nbconvert_exporter": "python",
   "pygments_lexer": "ipython3",
   "version": "3.9.13"
  }
 },
 "nbformat": 4,
 "nbformat_minor": 5
}
