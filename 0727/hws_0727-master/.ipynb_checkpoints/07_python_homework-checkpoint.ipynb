{
 "cells": [
  {
   "cell_type": "code",
   "execution_count": 3,
   "id": "fbbb839e",
   "metadata": {},
   "outputs": [
    {
     "data": {
      "text/plain": [
       "'#\\nclass bool\\nclass bytearray\\nclass bytearray\\nclass float\\nclass frozenset\\n#'"
      ]
     },
     "execution_count": 3,
     "metadata": {},
     "output_type": "execute_result"
    }
   ],
   "source": [
    "'''#\n",
    "class bool\n",
    "class bytearray\n",
    "class bytearray\n",
    "class float\n",
    "class frozenset\n",
    "#'''\n"
   ]
  },
  {
   "cell_type": "code",
   "execution_count": 4,
   "id": "b5a00b6e",
   "metadata": {},
   "outputs": [
    {
     "data": {
      "text/plain": [
       "'#\\n객체의 특수 조작 행위를 지정 \\n__str__:해당 객체의 출력 형태 지정 \\n__gt__:부등호 연산자\\n__del__:소멸자\\n__init__:초기화\\n__repr__:프린팅\\n#'"
      ]
     },
     "execution_count": 4,
     "metadata": {},
     "output_type": "execute_result"
    }
   ],
   "source": [
    "'''#\n",
    "객체의 특수 조작 행위를 지정 \n",
    "__str__:해당 객체의 출력 형태 지정 \n",
    "__gt__:부등호 연산자\n",
    "__del__:소멸자\n",
    "__init__:초기화\n",
    "__repr__:프린팅\n",
    "#'''"
   ]
  },
  {
   "cell_type": "code",
   "execution_count": 5,
   "id": "0cf881bd",
   "metadata": {},
   "outputs": [
    {
     "data": {
      "text/plain": [
       "'#\\ncount(x,start,end):문자열 스타트 인덱스에서 엔드 인덱스 까지의 X의 등장 횟수 반환\\n.upper():문자열을 대문자로\\n.title():첫글자를 대문자로 \\n#'"
      ]
     },
     "execution_count": 5,
     "metadata": {},
     "output_type": "execute_result"
    }
   ],
   "source": [
    "'''#\n",
    "count(x,start,end):문자열 스타트 인덱스에서 엔드 인덱스 까지의 X의 등장 횟수 반환\n",
    ".upper():문자열을 대문자로\n",
    ".title():첫글자를 대문자로 \n",
    "#'''"
   ]
  },
  {
   "cell_type": "code",
   "execution_count": 7,
   "id": "52c0ad69",
   "metadata": {},
   "outputs": [
    {
     "data": {
      "text/plain": [
       "'#\\nzeroDivisionError,0으로 나누고자 할때 발생\\nNameError,namespce 상에 이름이 없는 경우\\nIndexError,인덱스가 존재하지 않거나 범위 벗어나는 경우\\nkeyError,키가 존재하지 않을때\\nModuleNotFoundError,모듈없음\\nImportError모듈은 있으나 존재하지 않는 클래스 가져올떄\\n#'"
      ]
     },
     "execution_count": 7,
     "metadata": {},
     "output_type": "execute_result"
    }
   ],
   "source": [
    "'''#\n",
    "zeroDivisionError,0으로 나누고자 할때 발생\n",
    "NameError,namespce 상에 이름이 없는 경우\n",
    "IndexError,인덱스가 존재하지 않거나 범위 벗어나는 경우\n",
    "keyError,키가 존재하지 않을때\n",
    "ModuleNotFoundError,모듈없음\n",
    "ImportError모듈은 있으나 존재하지 않는 클래스 가져올떄\n",
    "#'''"
   ]
  },
  {
   "cell_type": "code",
   "execution_count": null,
   "id": "fe1e2350",
   "metadata": {},
   "outputs": [],
   "source": []
  }
 ],
 "metadata": {
  "kernelspec": {
   "display_name": "Python 3 (ipykernel)",
   "language": "python",
   "name": "python3"
  },
  "language_info": {
   "codemirror_mode": {
    "name": "ipython",
    "version": 3
   },
   "file_extension": ".py",
   "mimetype": "text/x-python",
   "name": "python",
   "nbconvert_exporter": "python",
   "pygments_lexer": "ipython3",
   "version": "3.10.5"
  }
 },
 "nbformat": 4,
 "nbformat_minor": 5
}
