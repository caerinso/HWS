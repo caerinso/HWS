{
 "cells": [
  {
   "cell_type": "code",
   "execution_count": 4,
   "id": "b6ce0e98",
   "metadata": {},
   "outputs": [
    {
     "name": "stdout",
     "output_type": "stream",
     "text": [
      "[1, 2, 3, 45, 77]\n",
      "None\n",
      "[1, 2, 3, 45, 77]\n"
     ]
    }
   ],
   "source": [
    "a=[1,3,45,2,77]\n",
    "\n",
    "print(sorted(a))# 값을 sort 된 리스트로 뱉는다. \n",
    "\n",
    "print(a.sort())# 값을 None을 뱉는다.a 리스트를 확인해야 바뀐 것을 볼 수 있다. \n",
    "print(a)"
   ]
  },
  {
   "cell_type": "code",
   "execution_count": 5,
   "id": "467a2794",
   "metadata": {},
   "outputs": [
    {
     "name": "stdout",
     "output_type": "stream",
     "text": [
      "[1, 3, 45, 2, 77, 2, 3]\n",
      "[1, 3, 45, 2, 77, 2, 3, [2, 3]]\n"
     ]
    }
   ],
   "source": [
    "a=[1,3,45,2,77]\n",
    "\n",
    "a.extend([2,3])#추가 할때 리스트 안의 값들을 추가한다. \n",
    "print(a)\n",
    "a.append([2,3])#리스트 자체를 추가한다.(원형 그대로 요소로 추가한다.)\n",
    "print(a)"
   ]
  },
  {
   "cell_type": "code",
   "execution_count": 7,
   "id": "72b152c8",
   "metadata": {},
   "outputs": [
    {
     "name": "stdout",
     "output_type": "stream",
     "text": [
      "[1, 2, 5, 4, 5]\n",
      "[1, 2, 5, 4, 5]\n",
      "True\n"
     ]
    }
   ],
   "source": [
    "a=[1,2,3,4,5]\n",
    "b=a\n",
    "a[2]=5\n",
    "print(a)\n",
    "print(b)\n",
    "print(id(a)==id(b))\n",
    "# 할당을 해주는 방식으로, 같은 객체를 보기 떄문에 리스트의 요소는 같고 이에 \n",
    "#id 값도 같게 출력 되는것을 확인 할 수 있다. "
   ]
  },
  {
   "cell_type": "code",
   "execution_count": null,
   "id": "d0907f72",
   "metadata": {},
   "outputs": [],
   "source": []
  }
 ],
 "metadata": {
  "kernelspec": {
   "display_name": "Python 3 (ipykernel)",
   "language": "python",
   "name": "python3"
  },
  "language_info": {
   "codemirror_mode": {
    "name": "ipython",
    "version": 3
   },
   "file_extension": ".py",
   "mimetype": "text/x-python",
   "name": "python",
   "nbconvert_exporter": "python",
   "pygments_lexer": "ipython3",
   "version": "3.9.13"
  }
 },
 "nbformat": 4,
 "nbformat_minor": 5
}
