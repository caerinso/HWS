{
 "cells": [
  {
   "cell_type": "code",
   "execution_count": 6,
   "id": "cdc5d4ad",
   "metadata": {},
   "outputs": [
    {
     "name": "stdout",
     "output_type": "stream",
     "text": [
      "['p']\n",
      "['n', 'a']\n"
     ]
    }
   ],
   "source": [
    "def duplicated_letters(a) :\n",
    "    lst=[]\n",
    "\n",
    "    a_1=list(set(a)) #aple\n",
    "    a_2=list(a) #apple \n",
    "\n",
    "    for i in a_1:\n",
    "        if a_2.count(i)>1:\n",
    "            lst.append(i)\n",
    "        else:\n",
    "            continue\n",
    "\n",
    "    return lst\n",
    "\n",
    "print(duplicated_letters('apple'))\n",
    "print(duplicated_letters('banana'))"
   ]
  },
  {
   "cell_type": "code",
   "execution_count": 13,
   "id": "ca3600be",
   "metadata": {},
   "outputs": [
    {
     "name": "stdout",
     "output_type": "stream",
     "text": [
      "aPpLe\n",
      "bAnAn\n"
     ]
    }
   ],
   "source": [
    "def low_and_up(a):\n",
    "\n",
    "    a=list(a)\n",
    "    a_1=a[0:len(a):2]\n",
    "    a__1=[]\n",
    "    for i in a_1:\n",
    "        a__1.append(i.lower())\n",
    "    a_2=a[1:len(a):2]\n",
    "    a__2=[]\n",
    "    for i in a_2:\n",
    "        i.upper()\n",
    "        a__2.append(i.upper())\n",
    "\n",
    "    n=0\n",
    "    for i in a__2: \n",
    "        a__1.insert(2*n+1,i)\n",
    "        n+=1\n",
    "\n",
    "    return ''.join(a__1)\n",
    "\n",
    "print(low_and_up('apple'))\n",
    "print(low_and_up('banan'))"
   ]
  },
  {
   "cell_type": "code",
   "execution_count": 19,
   "id": "bb3cd5b0",
   "metadata": {},
   "outputs": [
    {
     "name": "stdout",
     "output_type": "stream",
     "text": [
      "[1, 1, 3, 3, 0, 1, 1]\n",
      "[4, 4, 4, 3, 3]\n"
     ]
    }
   ],
   "source": [
    "def lonely(lst):\n",
    "    lst_1=[]\n",
    "    for i in range(0,len(lst)):\n",
    "\n",
    "        if i==len(lst)-1:\n",
    "            lst_1.append(lst[i])\n",
    "        else:             \n",
    "            if lst[i]!=lst[i+1]:\n",
    "                lst_1.append(lst[i])\n",
    "            elif lst[i]==lst[i+1]:\n",
    "                continue\n",
    "\n",
    "    return lst\n",
    "\n",
    "print(lonely([1,1,3,3,0,1,1]))\n",
    "print(lonely([4,4,4,3,3]))\n"
   ]
  },
  {
   "cell_type": "code",
   "execution_count": null,
   "id": "e8fd8e6c",
   "metadata": {},
   "outputs": [],
   "source": []
  }
 ],
 "metadata": {
  "kernelspec": {
   "display_name": "Python 3 (ipykernel)",
   "language": "python",
   "name": "python3"
  },
  "language_info": {
   "codemirror_mode": {
    "name": "ipython",
    "version": 3
   },
   "file_extension": ".py",
   "mimetype": "text/x-python",
   "name": "python",
   "nbconvert_exporter": "python",
   "pygments_lexer": "ipython3",
   "version": "3.9.13"
  }
 },
 "nbformat": 4,
 "nbformat_minor": 5
}
