{
 "cells": [
  {
   "cell_type": "code",
   "execution_count": null,
   "id": "6bc4f3bf",
   "metadata": {},
   "outputs": [],
   "source": [
    "abs()\n",
    "all()\n",
    "any()\n",
    "ascii()\n",
    "bin()\n",
    "bool()\n",
    "breakpoint()\n",
    "bytearray()\n",
    "bytes()\n",
    "callable()"
   ]
  },
  {
   "cell_type": "code",
   "execution_count": 4,
   "id": "bb16c380",
   "metadata": {},
   "outputs": [
    {
     "name": "stdout",
     "output_type": "stream",
     "text": [
      "[1, 3, 5, 7, 9, 11, 13, 15, 17, 19, 21, 23, 25, 27, 29, 31, 33, 35, 37, 39, 41, 43, 45, 47, 49]\n"
     ]
    }
   ],
   "source": [
    "a=list(range(1,50,2))\n",
    "print(a)"
   ]
  },
  {
   "cell_type": "code",
   "execution_count": 5,
   "id": "62c832b5",
   "metadata": {},
   "outputs": [
    {
     "name": "stdout",
     "output_type": "stream",
     "text": [
      "*****\n",
      "*****\n",
      "*****\n",
      "*****\n",
      "*****\n",
      "*****\n",
      "*****\n",
      "*****\n",
      "*****\n"
     ]
    }
   ],
   "source": [
    "n=5\n",
    "m=9\n",
    "k='*'*5\n",
    "i=0\n",
    "while(i<9):\n",
    "    print(k)\n",
    "    i+=1"
   ]
  },
  {
   "cell_type": "code",
   "execution_count": 6,
   "id": "a559f2ba",
   "metadata": {},
   "outputs": [
    {
     "name": "stdout",
     "output_type": "stream",
     "text": [
      "입실 가능\n"
     ]
    }
   ],
   "source": [
    "temp =36.5 \n",
    "\n",
    "if temp >=37.5:\n",
    "    print('입실 불가')\n",
    "else:\n",
    "    print('입실 가능')"
   ]
  },
  {
   "cell_type": "code",
   "execution_count": 11,
   "id": "7424fcd8",
   "metadata": {},
   "outputs": [
    {
     "data": {
      "text/plain": [
       "'f'"
      ]
     },
     "execution_count": 11,
     "metadata": {},
     "output_type": "execute_result"
    }
   ],
   "source": [
    "def get_middle_char(a) :\n",
    "    lst=list(a)\n",
    "    aa=len(lst)\n",
    "    \n",
    "    if (aa%2==0):\n",
    "        k_1=int(aa/2)\n",
    "        k_2=int(aa/2+1)\n",
    "        return(lst[k_1],lst[k_2])\n",
    "        \n",
    "    else:\n",
    "        k_3=int((aa)/2)\n",
    "        return(lst[k_3])\n",
    "                \n",
    "a='fffdg'\n",
    "\n",
    "get_middle_char(a)"
   ]
  },
  {
   "cell_type": "code",
   "execution_count": null,
   "id": "7f0a82f7",
   "metadata": {},
   "outputs": [],
   "source": []
  }
 ],
 "metadata": {
  "kernelspec": {
   "display_name": "Python 3 (ipykernel)",
   "language": "python",
   "name": "python3"
  },
  "language_info": {
   "codemirror_mode": {
    "name": "ipython",
    "version": 3
   },
   "file_extension": ".py",
   "mimetype": "text/x-python",
   "name": "python",
   "nbconvert_exporter": "python",
   "pygments_lexer": "ipython3",
   "version": "3.10.5"
  }
 },
 "nbformat": 4,
 "nbformat_minor": 5
}
